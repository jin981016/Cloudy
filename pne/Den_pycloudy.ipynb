{
 "cells": [
  {
   "cell_type": "code",
   "execution_count": 1,
   "metadata": {},
   "outputs": [],
   "source": [
    "import numpy as np\n",
    "import matplotlib.pyplot as plt\n",
    "import pyCloudy as pc\n",
    "import pyneb as pn\n",
    "from astropy import units as u\n",
    "import os\n"
   ]
  },
  {
   "cell_type": "code",
   "execution_count": 2,
   "metadata": {},
   "outputs": [],
   "source": [
    "emis=['H  1  1215.67A',\n",
    "'H  1  1025.72A',\n",
    "'H  1  4861.33A',\n",
    "'H  1  6562.81A',\n",
    "'O  6  1031.91A',\n",
    "'O  6  1037.62A',\n",
    "'He 2  949.31A',\n",
    "'He 2  972.108A',\n",
    "'He 2  1025.27A',\n",
    "'He 2  1640.43A',\n",
    "'He 2  4859A',\n",
    "'He 2  4339A',\n",
    "'He 2  6527A',\n",
    "'He 2  6560A',\n",
    "'C  4  1550.78',\n",
    "'O  3  5006.84A',\n",
    "'N  5  1238.82',\n",
    "'N  5  1242.80',\n",
    "'c  4  1548.19',\n",
    "'c  4  1550.78',\n",
    "'mg 2  2795.53',\n",
    "'mg 2  2802.71'\n",
    "]\n",
    "\n",
    "\n",
    "#'Case B'\n",
    "options= [\n",
    "          'stop column denstiy 24',\n",
    "          'stop temperature off']"
   ]
  },
  {
   "cell_type": "code",
   "execution_count": 4,
   "metadata": {},
   "outputs": [
    {
     "name": "stdout",
     "output_type": "stream",
     "text": [
      "   test_1.0: Cloudy ended after seconds: in 132.05221486091614\n",
      "   test_2.0: Cloudy ended after seconds: in 142.07641768455505\n",
      "   test_3.0: Cloudy ended after seconds: in 141.33286666870117\n",
      "   test_4.0: Cloudy ended after seconds: in 130.7068591117859\n",
      "   test_5.0: Cloudy ended after seconds: in 141.86127424240112\n",
      "   test_6.0: Cloudy ended after seconds: in 141.80011105537415\n",
      "   test_7.0: Cloudy ended after seconds: in 142.51150226593018\n",
      "   test_8.0: Cloudy ended after seconds: in 141.4885311126709\n",
      "   test_9.0: Cloudy ended after seconds: in 137.52341675758362\n",
      "   test_10.0: Cloudy ended after seconds: in 139.3765184879303\n",
      "   test_11.0: Cloudy ended after seconds: in 144.87118220329285\n",
      "   test_12.0: Cloudy ended after seconds: in 160.67989993095398\n",
      "   test_13.0: Cloudy ended after seconds: in 3749.3986213207245\n",
      "   test_14.0: Cloudy ended after seconds: in 165.27823853492737\n",
      "   test_15.0: Cloudy ended after seconds: in 161.8800826072693\n",
      "   test_16.0: Cloudy ended after seconds: in 148.13920783996582\n",
      "   test_17.0: Cloudy ended after seconds: in 156.06967687606812\n",
      "   test_18.0: Cloudy ended after seconds: in 157.74027371406555\n",
      "   test_19.0: Cloudy ended after seconds: in 133.59335350990295\n",
      "   test_20.0: Cloudy ended after seconds: in 116.21632719039917\n"
     ]
    }
   ],
   "source": [
    "path = r\"/home/jin/cloudy_Test/pne/hden_v_test/\"\n",
    "\n",
    "N = 20\n",
    "rr = np.linspace(1, N, N)\n",
    "# Lumin = np.linspace(35,38,N)\n",
    "# Temp = np.linspace(1e4,3e5,N)\n",
    "Hd = np.linspace(2,8,N)\n",
    "\n",
    "for ii,nn in enumerate(rr):\n",
    "    folder_path = os.path.join(path, \"data_%d\" % nn)\n",
    "    if not os.path.isdir(folder_path):\n",
    "        os.makedirs(folder_path, exist_ok=True)\n",
    "\n",
    "    model_name = \"/data_%d\"%(nn)\n",
    "    full_name = \"{0}{1}\".format(folder_path,model_name)\n",
    "    hden = Hd[ii]\n",
    "    Teff = 1.10E+5\n",
    "    L = 36\n",
    "    radius = 11.874\n",
    "    c_input = pc.CloudyInput(full_name)\n",
    "    c_input.set_BB(Teff=Teff,lumi_unit='Luminosity',lumi_value=L)\n",
    "    c_input.set_cste_density(hden)\n",
    "    c_input.set_radius(radius)\n",
    "    # if hden <= 5 :\n",
    "    c_input.set_iterate(0)\n",
    "    # elif hden > 5:\n",
    "        # c_input.set_iterate(to_convergence=True)\n",
    "    c_input.set_other(options)\n",
    "    c_input.set_emis_tab(emis)\n",
    "    c_input.print_input(to_file = True, verbose = False)\n",
    "    pc.log_.message('Running {0}'.format(model_name), calling = 'test_1')\n",
    "    pc.config.cloudy_exe = '/home/jin/Cloudy/c17.03/source/cloudy.exe'\n",
    "    pc.log_.timer('Starting Cloudy', quiet = True, calling = r'test_{0}'.format(nn))\n",
    "    c_input.run_cloudy()\n",
    "    pc.log_.timer('Cloudy ended after seconds:', calling = r'test_{0}'.format(nn))"
   ]
  },
  {
   "cell_type": "code",
   "execution_count": 5,
   "metadata": {},
   "outputs": [
    {
     "data": {
      "text/plain": [
       "array([5.88888889, 5.93939394, 5.98989899, 6.04040404, 6.09090909,\n",
       "       6.14141414, 6.19191919, 6.24242424, 6.29292929, 6.34343434,\n",
       "       6.39393939, 6.44444444, 6.49494949, 6.54545455, 6.5959596 ,\n",
       "       6.64646465, 6.6969697 , 6.74747475, 6.7979798 , 6.84848485,\n",
       "       6.8989899 , 6.94949495, 7.        ])"
      ]
     },
     "execution_count": 5,
     "metadata": {},
     "output_type": "execute_result"
    }
   ],
   "source": [
    "N = 100\n",
    "rr = np.linspace(1, N, N)\n",
    "# Lumin = np.linspace(35,38,N)\n",
    "# Temp = np.linspace(1e4,3e5,N)\n",
    "Hd = np.linspace(2,7,N)\n",
    "rr[77:]\n",
    "Hd[77:]"
   ]
  },
  {
   "cell_type": "code",
   "execution_count": 9,
   "metadata": {},
   "outputs": [
    {
     "ename": "ValueError",
     "evalue": "operands could not be broadcast together with shapes (4,) (0,) ",
     "output_type": "error",
     "traceback": [
      "\u001b[0;31m---------------------------------------------------------------------------\u001b[0m",
      "\u001b[0;31mValueError\u001b[0m                                Traceback (most recent call last)",
      "Cell \u001b[0;32mIn[9], line 24\u001b[0m\n\u001b[1;32m     22\u001b[0m ex \u001b[38;5;241m=\u001b[39m []\n\u001b[1;32m     23\u001b[0m \u001b[38;5;28;01mfor\u001b[39;00m ii,nn \u001b[38;5;129;01min\u001b[39;00m \u001b[38;5;28menumerate\u001b[39m(rr):\n\u001b[0;32m---> 24\u001b[0m     Mod \u001b[38;5;241m=\u001b[39m pc\u001b[38;5;241m.\u001b[39mCloudyModel(\u001b[38;5;124mr\u001b[39m\u001b[38;5;124m\"\u001b[39m\u001b[38;5;124m/home/jin/cloudy_Test/pne/hden_v_test/data_\u001b[39m\u001b[38;5;132;01m%d\u001b[39;00m\u001b[38;5;124m/data_\u001b[39m\u001b[38;5;132;01m%d\u001b[39;00m\u001b[38;5;124m\"\u001b[39m\u001b[38;5;241m%\u001b[39m(nn,nn))\n\u001b[1;32m     25\u001b[0m     \u001b[38;5;28;01mtry\u001b[39;00m:\n\u001b[1;32m     26\u001b[0m         Lum_Lya \u001b[38;5;241m=\u001b[39m \u001b[38;5;28mfloat\u001b[39m(Mod\u001b[38;5;241m.\u001b[39mget_emis_vol(\u001b[38;5;124m'\u001b[39m\u001b[38;5;124mH__1_121567A\u001b[39m\u001b[38;5;124m'\u001b[39m))\n",
      "File \u001b[0;32m~/anaconda3/lib/python3.11/site-packages/pyCloudy/c1d/cloudy_model.py:131\u001b[0m, in \u001b[0;36mCloudyModel.__init__\u001b[0;34m(self, model_name, verbose, read_all_ext, read_rad, read_phy, read_emis, read_grains, read_cont, read_heatcool, read_lin, read_opd, read_pressure, read_abunds, read_ovr, list_elem, distance, line_is_log, emis_is_log, ionic_str_key)\u001b[0m\n\u001b[1;32m    129\u001b[0m \u001b[38;5;28mself\u001b[39m\u001b[38;5;241m.\u001b[39m_init_all2zero()\n\u001b[1;32m    130\u001b[0m \u001b[38;5;28;01mif\u001b[39;00m read_rad:\n\u001b[0;32m--> 131\u001b[0m     \u001b[38;5;28mself\u001b[39m\u001b[38;5;241m.\u001b[39m_init_rad()\n\u001b[1;32m    132\u001b[0m \u001b[38;5;28;01mif\u001b[39;00m read_phy:\n\u001b[1;32m    133\u001b[0m     \u001b[38;5;28mself\u001b[39m\u001b[38;5;241m.\u001b[39m_init_phy()\n",
      "File \u001b[0;32m~/anaconda3/lib/python3.11/site-packages/pyCloudy/c1d/cloudy_model.py:242\u001b[0m, in \u001b[0;36mCloudyModel._init_rad\u001b[0;34m(self)\u001b[0m\n\u001b[1;32m    240\u001b[0m \u001b[38;5;28mself\u001b[39m\u001b[38;5;241m.\u001b[39mdepth_out_cut \u001b[38;5;241m=\u001b[39m \u001b[38;5;28mself\u001b[39m\u001b[38;5;241m.\u001b[39mdepth_out\n\u001b[1;32m    241\u001b[0m \u001b[38;5;28;01mif\u001b[39;00m \u001b[38;5;28mself\u001b[39m\u001b[38;5;241m.\u001b[39mPhi0 \u001b[38;5;241m==\u001b[39m \u001b[38;5;241m0.\u001b[39m:\n\u001b[0;32m--> 242\u001b[0m     \u001b[38;5;28mself\u001b[39m\u001b[38;5;241m.\u001b[39mPhi \u001b[38;5;241m=\u001b[39m \u001b[38;5;28mself\u001b[39m\u001b[38;5;241m.\u001b[39mQ \u001b[38;5;241m/\u001b[39m (\u001b[38;5;241m4\u001b[39m \u001b[38;5;241m*\u001b[39m np\u001b[38;5;241m.\u001b[39mpi \u001b[38;5;241m*\u001b[39m \u001b[38;5;28mself\u001b[39m\u001b[38;5;241m.\u001b[39mr_in\u001b[38;5;241m*\u001b[39m\u001b[38;5;241m*\u001b[39m\u001b[38;5;241m2\u001b[39m)\n\u001b[1;32m    243\u001b[0m     \u001b[38;5;28mself\u001b[39m\u001b[38;5;241m.\u001b[39mPhi0 \u001b[38;5;241m=\u001b[39m \u001b[38;5;28mself\u001b[39m\u001b[38;5;241m.\u001b[39mPhi\u001b[38;5;241m.\u001b[39msum()\n",
      "\u001b[0;31mValueError\u001b[0m: operands could not be broadcast together with shapes (4,) (0,) "
     ]
    }
   ],
   "source": [
    "# N = 10\n",
    "# rr = np.linspace(1, N, N)\n",
    "# Hd = np.linspace(5,7,N)\n",
    "\n",
    "ratio_He2 = np.zeros(N)\n",
    "ratio_H = np.zeros(N)\n",
    "\n",
    "L_He2_R = np.zeros(N)\n",
    "L_He2 = np.zeros(N)\n",
    "L_C4 = np.zeros(N)\n",
    "L_Mg = np.zeros(N)\n",
    "L_N5 = np.zeros(N)\n",
    "L_O6 = np.zeros(N)\n",
    "\n",
    "\n",
    "Nden_HI = np.zeros(N)\n",
    "Nden_HII = np.zeros(N)\n",
    "Nden_OVI = np.zeros(N)\n",
    "Nden_NV = np.zeros(N)\n",
    "Nden_CIV = np.zeros(N)\n",
    "# rr = np.arange(23,101,1)\n",
    "ex = []\n",
    "for ii,nn in enumerate(rr):\n",
    "    Mod = pc.CloudyModel(r\"/home/jin/cloudy_Test/pne/hden_v_test/data_%d/data_%d\"%(nn,nn))\n",
    "    try:\n",
    "        Lum_Lya = float(Mod.get_emis_vol('H__1_121567A'))\n",
    "        Lum_Lyb = float(Mod.get_emis_vol('H__1_102572A'))\n",
    "        Lum_Ha = float(Mod.get_emis_vol('H__1_656281A'))\n",
    "        Lum_Hb = float(Mod.get_emis_vol('H__1_486133A'))\n",
    "        Lum_O6 = float(Mod.get_emis_vol('O__6_103191A')) + float(Mod.get_emis_vol('O__6_103762A'))\n",
    "        Lum_O6_1 = float(Mod.get_emis_vol('O__6_103191A'))\n",
    "        Lum_O6_2 = float(Mod.get_emis_vol('O__6_103762A'))\n",
    "        \n",
    "        Lum_O3 = float(Mod.get_emis_vol('O__3_500684A'))\n",
    "\n",
    "        Lum_C4 = float(Mod.get_emis_vol('C__4_154819A')) + float(Mod.get_emis_vol('C__4_155078A'))\n",
    "        Lum_C4_1 = float(Mod.get_emis_vol('C__4_154819A'))\n",
    "        Lum_C4_1 = float(Mod.get_emis_vol('C__4_155078A'))\n",
    "        Lum_N5 = float(Mod.get_emis_vol('N__5_123882A')) + float(Mod.get_emis_vol('N__5_124280A'))\n",
    "        Lum_N5_1 = float(Mod.get_emis_vol('N__5_123882A'))\n",
    "        Lum_N5_2 = float(Mod.get_emis_vol('N__5_124280A'))\n",
    "\n",
    "\n",
    "        Lum_Mg2 = float(Mod.get_emis_vol('MG_2_279553A'))+ float(Mod.get_emis_vol('MG_2_280271A'))\n",
    "        Lum_Mg2_1 = float(Mod.get_emis_vol('MG_2_279553A'))\n",
    "        Lum_Mg2_2 =  float(Mod.get_emis_vol('MG_2_280271A'))\n",
    "\n",
    "        Lum_He2_972 = float(Mod.get_emis_vol('HE_2_972108A'))\n",
    "        Lum_He2_1025 = float(Mod.get_emis_vol('HE_2_102527A'))  \n",
    "        Lum_He2_1640 = float(Mod.get_emis_vol('HE_2_164043A'))\n",
    "\n",
    "        Lum_He2_4339 = float(Mod.get_emis_vol('HE_2_433900A'))\n",
    "        Lum_He2_4859 = float(Mod.get_emis_vol('HE_2_485900A'))\n",
    "        Lum_He2_6529 = float(Mod.get_emis_vol('HE_2_652900A'))\n",
    "        Lum_He2_6560 = float(Mod.get_emis_vol('HE_2_656000A'))\n",
    "                             \n",
    "        N_H = sum(Mod.dr*Mod.nH)\n",
    "        frac_C = 2.45E-04\n",
    "        frac_O = 4.90E-04\n",
    "        frac_N = 8.51E-05\n",
    "        frac_Mg = 3.47E-05\n",
    "        N_HI = sum(Mod.dr*Mod.nH*Mod.get_ionic('H',0))\n",
    "        N_HII = sum(Mod.dr*Mod.nH*Mod.get_ionic('H',1))\n",
    "        N_OVI = frac_O*sum(Mod.dr*Mod.nH*Mod.get_ionic('O',5))\n",
    "        N_NV = frac_N*sum(Mod.dr*Mod.nH*Mod.get_ionic('N',4))\n",
    "        N_CIV = frac_C*sum(Mod.dr*Mod.nH*Mod.get_ionic('C',3))\n",
    "        # L_He2[ii] = Lum_He2\n",
    "        # L_He2_R[ii] = Lum_He2_R\n",
    "        \n",
    "\n",
    "        ratio_He2[ii] = Lum_He2_1025 / Lum_He2_972\n",
    "        ratio_H[ii] =  Lum_Ha / Lum_Hb\n",
    "        L_C4[ii] = Lum_C4\n",
    "        L_Mg[ii] = Lum_Mg2\n",
    "        L_N5[ii] = Lum_N5\n",
    "        L_O6[ii] = Lum_O6\n",
    "\n",
    "        Nden_HI[ii] = N_HI\n",
    "        Nden_HII[ii] = N_HII \n",
    "        Nden_OVI[ii] = N_OVI\n",
    "        Nden_NV[ii] = N_NV\n",
    "        Nden_CIV[ii] = N_CIV\n",
    "    except AttributeError:\n",
    "        ex.append(nn)\n",
    "        print('error  = %d'%(nn))\n",
    "\n"
   ]
  },
  {
   "cell_type": "code",
   "execution_count": 15,
   "metadata": {},
   "outputs": [
    {
     "ename": "ValueError",
     "evalue": "operands could not be broadcast together with shapes (4,) (0,) ",
     "output_type": "error",
     "traceback": [
      "\u001b[0;31m---------------------------------------------------------------------------\u001b[0m",
      "\u001b[0;31mValueError\u001b[0m                                Traceback (most recent call last)",
      "Cell \u001b[0;32mIn[15], line 2\u001b[0m\n\u001b[1;32m      1\u001b[0m nn\u001b[38;5;241m=\u001b[39m\u001b[38;5;241m1\u001b[39m\n\u001b[0;32m----> 2\u001b[0m Mod \u001b[38;5;241m=\u001b[39m pc\u001b[38;5;241m.\u001b[39mCloudyModel(\u001b[38;5;124mr\u001b[39m\u001b[38;5;124m\"\u001b[39m\u001b[38;5;124m/home/jin/cloudy_Test/pne/hden_v_test/data_\u001b[39m\u001b[38;5;132;01m%d\u001b[39;00m\u001b[38;5;124m/data_\u001b[39m\u001b[38;5;132;01m%d\u001b[39;00m\u001b[38;5;124m\"\u001b[39m\u001b[38;5;241m%\u001b[39m(nn,nn))\n\u001b[1;32m      3\u001b[0m Lum_Lya \u001b[38;5;241m=\u001b[39m \u001b[38;5;28mfloat\u001b[39m(Mod\u001b[38;5;241m.\u001b[39mget_emis_vol(\u001b[38;5;124m'\u001b[39m\u001b[38;5;124mH__1_121567A\u001b[39m\u001b[38;5;124m'\u001b[39m))\n\u001b[1;32m      4\u001b[0m Lum_Lyb \u001b[38;5;241m=\u001b[39m \u001b[38;5;28mfloat\u001b[39m(Mod\u001b[38;5;241m.\u001b[39mget_emis_vol(\u001b[38;5;124m'\u001b[39m\u001b[38;5;124mH__1_102572A\u001b[39m\u001b[38;5;124m'\u001b[39m))\n",
      "File \u001b[0;32m~/anaconda3/lib/python3.11/site-packages/pyCloudy/c1d/cloudy_model.py:131\u001b[0m, in \u001b[0;36mCloudyModel.__init__\u001b[0;34m(self, model_name, verbose, read_all_ext, read_rad, read_phy, read_emis, read_grains, read_cont, read_heatcool, read_lin, read_opd, read_pressure, read_abunds, read_ovr, list_elem, distance, line_is_log, emis_is_log, ionic_str_key)\u001b[0m\n\u001b[1;32m    129\u001b[0m \u001b[38;5;28mself\u001b[39m\u001b[38;5;241m.\u001b[39m_init_all2zero()\n\u001b[1;32m    130\u001b[0m \u001b[38;5;28;01mif\u001b[39;00m read_rad:\n\u001b[0;32m--> 131\u001b[0m     \u001b[38;5;28mself\u001b[39m\u001b[38;5;241m.\u001b[39m_init_rad()\n\u001b[1;32m    132\u001b[0m \u001b[38;5;28;01mif\u001b[39;00m read_phy:\n\u001b[1;32m    133\u001b[0m     \u001b[38;5;28mself\u001b[39m\u001b[38;5;241m.\u001b[39m_init_phy()\n",
      "File \u001b[0;32m~/anaconda3/lib/python3.11/site-packages/pyCloudy/c1d/cloudy_model.py:242\u001b[0m, in \u001b[0;36mCloudyModel._init_rad\u001b[0;34m(self)\u001b[0m\n\u001b[1;32m    240\u001b[0m \u001b[38;5;28mself\u001b[39m\u001b[38;5;241m.\u001b[39mdepth_out_cut \u001b[38;5;241m=\u001b[39m \u001b[38;5;28mself\u001b[39m\u001b[38;5;241m.\u001b[39mdepth_out\n\u001b[1;32m    241\u001b[0m \u001b[38;5;28;01mif\u001b[39;00m \u001b[38;5;28mself\u001b[39m\u001b[38;5;241m.\u001b[39mPhi0 \u001b[38;5;241m==\u001b[39m \u001b[38;5;241m0.\u001b[39m:\n\u001b[0;32m--> 242\u001b[0m     \u001b[38;5;28mself\u001b[39m\u001b[38;5;241m.\u001b[39mPhi \u001b[38;5;241m=\u001b[39m \u001b[38;5;28mself\u001b[39m\u001b[38;5;241m.\u001b[39mQ \u001b[38;5;241m/\u001b[39m (\u001b[38;5;241m4\u001b[39m \u001b[38;5;241m*\u001b[39m np\u001b[38;5;241m.\u001b[39mpi \u001b[38;5;241m*\u001b[39m \u001b[38;5;28mself\u001b[39m\u001b[38;5;241m.\u001b[39mr_in\u001b[38;5;241m*\u001b[39m\u001b[38;5;241m*\u001b[39m\u001b[38;5;241m2\u001b[39m)\n\u001b[1;32m    243\u001b[0m     \u001b[38;5;28mself\u001b[39m\u001b[38;5;241m.\u001b[39mPhi0 \u001b[38;5;241m=\u001b[39m \u001b[38;5;28mself\u001b[39m\u001b[38;5;241m.\u001b[39mPhi\u001b[38;5;241m.\u001b[39msum()\n",
      "\u001b[0;31mValueError\u001b[0m: operands could not be broadcast together with shapes (4,) (0,) "
     ]
    }
   ],
   "source": [
    "nn=1\n",
    "Mod = pc.CloudyModel(r\"/home/jin/cloudy_Test/pne/hden_v_test/data_%d/data_%d\"%(nn,nn))\n",
    "Lum_Lya = float(Mod.get_emis_vol('H__1_121567A'))\n",
    "Lum_Lyb = float(Mod.get_emis_vol('H__1_102572A'))\n",
    "Lum_Ha = float(Mod.get_emis_vol('H__1_656281A'))\n",
    "Lum_Hb = float(Mod.get_emis_vol('H__1_486133A'))\n",
    "Lum_O6 = float(Mod.get_emis_vol('O__6_103191A')) + float(Mod.get_emis_vol('O__6_103762A'))\n",
    "Lum_O6_1 = float(Mod.get_emis_vol('O__6_103191A'))\n",
    "Lum_O6_2 = float(Mod.get_emis_vol('O__6_103762A'))\n",
    "\n",
    "Lum_O3 = float(Mod.get_emis_vol('O__3_500684A'))\n",
    "\n",
    "Lum_C4 = float(Mod.get_emis_vol('C__4_154819A')) + float(Mod.get_emis_vol('C__4_155078A'))\n",
    "Lum_C4_1 = float(Mod.get_emis_vol('C__4_154819A'))\n",
    "Lum_C4_1 = float(Mod.get_emis_vol('C__4_155078A'))\n",
    "Lum_N5 = float(Mod.get_emis_vol('N__5_123882A')) + float(Mod.get_emis_vol('N__5_124280A'))\n",
    "Lum_N5_1 = float(Mod.get_emis_vol('N__5_123882A'))\n",
    "Lum_N5_2 = float(Mod.get_emis_vol('N__5_124280A'))\n",
    "\n",
    "\n",
    "Lum_Mg2 = float(Mod.get_emis_vol('MG_2_279553A'))+ float(Mod.get_emis_vol('MG_2_280271A'))\n",
    "Lum_Mg2_1 = float(Mod.get_emis_vol('MG_2_279553A'))\n",
    "Lum_Mg2_2 =  float(Mod.get_emis_vol('MG_2_280271A'))\n",
    "\n",
    "Lum_He2_972 = float(Mod.get_emis_vol('HE_2_972108A'))\n",
    "Lum_He2_1025 = float(Mod.get_emis_vol('HE_2_102527A'))  \n",
    "Lum_He2_1640 = float(Mod.get_emis_vol('HE_2_164043A'))\n",
    "\n",
    "Lum_He2_4339 = float(Mod.get_emis_vol('HE_2_433900A'))\n",
    "Lum_He2_4859 = float(Mod.get_emis_vol('HE_2_485900A'))\n",
    "Lum_He2_6529 = float(Mod.get_emis_vol('HE_2_652900A'))\n",
    "Lum_He2_6560 = float(Mod.get_emis_vol('HE_2_656000A'))\n",
    "                        \n",
    "N_H = sum(Mod.dr*Mod.nH)\n",
    "frac_C = 2.45E-04\n",
    "frac_O = 4.90E-04\n",
    "frac_N = 8.51E-05\n",
    "frac_Mg = 3.47E-05\n",
    "N_HI = sum(Mod.dr*Mod.nH*Mod.get_ionic('H',0))\n",
    "N_HII = sum(Mod.dr*Mod.nH*Mod.get_ionic('H',1))\n",
    "N_OVI = frac_O*sum(Mod.dr*Mod.nH*Mod.get_ionic('O',5))\n",
    "N_NV = frac_N*sum(Mod.dr*Mod.nH*Mod.get_ionic('N',4))\n",
    "N_CIV = frac_C*sum(Mod.dr*Mod.nH*Mod.get_ionic('C',3))\n",
    "# L_He2[ii] = Lum_He2\n",
    "# L_He2_R[ii] = Lum_He2_R\n",
    "\n",
    "\n",
    "ratio_He2[ii] = Lum_He2_1025 / Lum_He2_972\n",
    "ratio_H[ii] =  Lum_Ha / Lum_Hb\n",
    "L_C4[ii] = Lum_C4\n",
    "L_Mg[ii] = Lum_Mg2\n",
    "L_N5[ii] = Lum_N5\n",
    "L_O6[ii] = Lum_O6\n",
    "\n",
    "Nden_HI[ii] = N_HI\n",
    "Nden_HII[ii] = N_HII \n",
    "Nden_OVI[ii] = N_OVI\n",
    "Nden_NV[ii] = N_NV\n",
    "Nden_CIV[ii] = N_CIV"
   ]
  },
  {
   "cell_type": "code",
   "execution_count": 17,
   "metadata": {},
   "outputs": [
    {
     "data": {
      "text/plain": [
       "array([2.  , 3.25, 4.5 , 5.75, 7.  ])"
      ]
     },
     "execution_count": 17,
     "metadata": {},
     "output_type": "execute_result"
    }
   ],
   "source": [
    "Hd"
   ]
  },
  {
   "cell_type": "markdown",
   "metadata": {},
   "source": [
    "N = 10 에서 5~7 [0,5] 에서 오류뜸. (hden 이 5 보다 큰 곳인 괜찮운건가?)"
   ]
  }
 ],
 "metadata": {
  "kernelspec": {
   "display_name": "base",
   "language": "python",
   "name": "python3"
  },
  "language_info": {
   "codemirror_mode": {
    "name": "ipython",
    "version": 3
   },
   "file_extension": ".py",
   "mimetype": "text/x-python",
   "name": "python",
   "nbconvert_exporter": "python",
   "pygments_lexer": "ipython3",
   "version": "3.11.5"
  }
 },
 "nbformat": 4,
 "nbformat_minor": 2
}

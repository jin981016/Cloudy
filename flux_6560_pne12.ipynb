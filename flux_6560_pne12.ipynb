{
 "cells": [
  {
   "cell_type": "code",
   "execution_count": 109,
   "metadata": {},
   "outputs": [],
   "source": [
    "import numpy as np\n",
    "import matplotlib.pyplot as plt\n",
    "import pyCloudy as pc\n",
    "import pyneb as pn\n",
    "from astropy import units as u\n",
    "import os\n",
    "import pandas as pd\n",
    "from astropy import constants as const\n",
    "\n",
    "x=np.arange(4000,7000,0.001)\n",
    "t_x = np.arange(4000,7000,1)\n",
    "\n",
    "total_f_ratio = 5.15\n",
    "ratio_6560 = 6560.47 / 1025.27\n",
    "\n",
    "def R_Flux(F0,lam,lam_i,del_lam_i, ratio , flux_L , eff , Fc):\n",
    "    ff = (lam-lam_i)/(ratio*del_lam_i) \n",
    "    fl = F0*np.exp(-ff**2/2)  \n",
    "    return ((fl) / ratio**2) * (eff * flux_L) + Fc\n",
    "\n",
    "def Flux(F0,lam,lam_i,del_lam_i,Fc):\n",
    "    ff = (lam-lam_i)/(del_lam_i) \n",
    "    fl = F0*np.exp(-ff**2 / 2)/np.sqrt(2*np.pi*del_lam_i**2) + Fc\n",
    "    return fl\n",
    "\n",
    "def Data_R_Flux(F0,lam,lam_i,del_lam_i,Fc):\n",
    "    ff = (lam-lam_i)/(del_lam_i) \n",
    "    fl = F0*np.exp(-ff**2 / 2) + Fc\n",
    "    return fl\n",
    "\n",
    "def total_flux(f,x ,fc):\n",
    "    ft = 0\n",
    "    dx = x[1]- x[0]\n",
    "    for ii, flux in enumerate(f) :\n",
    "        ft += (flux-fc)*dx #*x[ii] \n",
    "    return ft\n",
    "\n",
    "def test_flux(f,x):\n",
    "    flux = f*x *np.sqrt(2*np.pi)\n",
    "    return flux"
   ]
  },
  {
   "cell_type": "code",
   "execution_count": 178,
   "metadata": {},
   "outputs": [
    {
     "data": {
      "text/plain": [
       "['ngc6886_2400s.0051.txt',\n",
       " '.DS_Store:Zone.Identifier',\n",
       " '.DS_Store',\n",
       " 'fit_beta.py:Zone.Identifier',\n",
       " 'ngc6886_2400s.0026.txt:Zone.Identifier',\n",
       " 'fit_alpha.py:Zone.Identifier',\n",
       " 'ngc6886_2400s.0051.txt:Zone.Identifier',\n",
       " 'fortran',\n",
       " 'ngc6886_2400s.0026.txt',\n",
       " 'fit_alpha.py',\n",
       " 'fit_beta.py']"
      ]
     },
     "execution_count": 178,
     "metadata": {},
     "output_type": "execute_result"
    }
   ],
   "source": [
    "files = os.listdir(\"/home/jin/cloudy_Test/PNe.tar-20240415T105820Z-001/PNe/PNe/ngc6886/\")\n",
    "files"
   ]
  },
  {
   "cell_type": "code",
   "execution_count": 110,
   "metadata": {},
   "outputs": [],
   "source": [
    "NGC6741_p = r\"/home/jin/cloudy_Test/PNe.tar-20240415T105820Z-001/PNe/PNe/ngc6741/cngc6741_3600s.0055.txt\"\n",
    "NGC6884_p = r\"/home/jin/cloudy_Test/PNe.tar-20240415T105820Z-001/PNe/PNe/ngc6884/cngc6884_3600s.0055.txt\"\n",
    "NGC6886_p = r\"/home/jin/cloudy_Test/PNe.tar-20240415T105820Z-001/PNe/PNe/ngc6886/ngc6886_2400s.0051.txt\"\n",
    "NGC6881_p = r\"/home/jin/cloudy_Test/PNe.tar-20240415T105820Z-001/PNe/PNe/ngc6881/cngc6881_3300s.0054.txt\"\n",
    "H4_1_p = r\"/home/jin/cloudy_Test/PNe.tar-20240415T105820Z-001/PNe/PNe/H_4_1.txt\"\n",
    "Hen2_447_p = r\"/home/jin/cloudy_Test/PNe.tar-20240415T105820Z-001/PNe/PNe/Hen_2_447.txt\"\n",
    "Hu2_1_p = r\"/home/jin/cloudy_Test/PNe.tar-20240415T105820Z-001/PNe/PNe/Hu_2_1.txt\"\n",
    "J900_p = r\"/home/jin/cloudy_Test/PNe.tar-20240415T105820Z-001/PNe/PNe/J_900.txt\"\n",
    "M1_8_p = r\"/home/jin/cloudy_Test/PNe.tar-20240415T105820Z-001/PNe/PNe/M_1_8.txt\"\n",
    "NGC2346_p = r\"/home/jin/cloudy_Test/PNe.tar-20240415T105820Z-001/PNe/PNe/NGC_2346.txt\"\n",
    "NGC2392_p = r\"/home/jin/cloudy_Test/PNe.tar-20240415T105820Z-001/PNe/PNe/NGC_2392.txt\"\n",
    "NGC3242_p = r\"/home/jin/cloudy_Test/PNe.tar-20240415T105820Z-001/PNe/PNe/NGC_3242.txt\""
   ]
  },
  {
   "cell_type": "code",
   "execution_count": 121,
   "metadata": {},
   "outputs": [],
   "source": [
    "direct = r\"/home/jin/cloudy_Test/parameters\"\n",
    "\n",
    "import os\n",
    "\n",
    "files = os.listdir(direct)\n",
    "txt_files = [file for file in files if file.endswith('params.txt')]\n",
    "# txt_files\n",
    "parameters_name = [file.split('_')[0] for file in txt_files]"
   ]
  },
  {
   "cell_type": "code",
   "execution_count": 122,
   "metadata": {},
   "outputs": [
    {
     "data": {
      "text/plain": [
       "['NGC6881',\n",
       " 'NGC6884',\n",
       " 'NGC6886',\n",
       " 'J900',\n",
       " 'NGC2392',\n",
       " 'NGC6741',\n",
       " 'NGC2346',\n",
       " 'NGC3242',\n",
       " 'J900',\n",
       " 'NGC2392',\n",
       " 'M1-8',\n",
       " 'Hu2-1',\n",
       " 'H4-1',\n",
       " 'Hen2-447',\n",
       " 'NGC6886',\n",
       " 'NGC3242',\n",
       " 'Hu2-1']"
      ]
     },
     "execution_count": 122,
     "metadata": {},
     "output_type": "execute_result"
    }
   ],
   "source": [
    "parameters_name"
   ]
  },
  {
   "cell_type": "code",
   "execution_count": 123,
   "metadata": {},
   "outputs": [],
   "source": [
    "for ii , name in enumerate(parameters_name):\n",
    "    direct_p = direct + '/' + txt_files[ii]\n",
    "    name_w = name.replace('-', '_')\n",
    "    globals()[f'paramter_{name_w}']= pd.read_csv(direct_p,sep='\\,',header=0,engine='python')\n",
    "    globals()[f'F_6527_{name_w}'] = globals()[f'paramter_{name_w}'].to_numpy()[0][1]\n",
    "    globals()[f'F_6545_{name_w}'] = globals()[f'paramter_{name_w}'].to_numpy()[1][1]\n",
    "    globals()[f'F_6560_{name_w}'] = globals()[f'paramter_{name_w}'].to_numpy()[2][1]\n",
    "    globals()[f'F_6563_{name_w}'] = globals()[f'paramter_{name_w}'].to_numpy()[3][1]\n",
    "    globals()[f'F_6548_1_{name_w}'] = globals()[f'paramter_{name_w}'].to_numpy()[4][1]\n",
    "    globals()[f'F_6548_2_{name_w}'] = globals()[f'paramter_{name_w}'].to_numpy()[5][1]\n",
    "\n",
    "\n",
    "    globals()[f'lam_c_6527_{name_w}'] = globals()[f'paramter_{name_w}'].to_numpy()[0][3]\n",
    "    globals()[f'lam_c_6545_{name_w}'] = globals()[f'paramter_{name_w}'].to_numpy()[1][3]\n",
    "    globals()[f'lam_c_6560_{name_w}'] = globals()[f'paramter_{name_w}'].to_numpy()[2][3]\n",
    "    globals()[f'lam_c_6563_{name_w}'] = globals()[f'paramter_{name_w}'].to_numpy()[3][3]\n",
    "    globals()[f'lam_c_6548_1_{name_w}'] = globals()[f'paramter_{name_w}'].to_numpy()[4][3]\n",
    "    globals()[f'lam_c_6548_2_{name_w}'] = globals()[f'paramter_{name_w}'].to_numpy()[5][3]\n",
    "\n",
    "\n",
    "    globals()[f'sig_6527_{name_w}'] = globals()[f'paramter_{name_w}'].to_numpy()[0][4]\n",
    "    globals()[f'sig_6545_{name_w}'] = globals()[f'paramter_{name_w}'].to_numpy()[1][4]\n",
    "    globals()[f'sig_6560_{name_w}'] = globals()[f'paramter_{name_w}'].to_numpy()[2][4]\n",
    "    globals()[f'sig_6563_{name_w}'] = globals()[f'paramter_{name_w}'].to_numpy()[3][4]\n",
    "    globals()[f'sig_6548_1_{name_w}'] = globals()[f'paramter_{name_w}'].to_numpy()[4][4]\n",
    "    globals()[f'sig_6548_2_{name_w}'] = globals()[f'paramter_{name_w}'].to_numpy()[5][4]\n",
    "\n",
    "    header = ['lambda', 'flux']\n",
    "    globals()[f'path_{name_w}'] = globals()[f'{name_w}_p']\n",
    "    Real_data = pd.read_csv(globals()[f'path_{name_w}'],sep='\\s+',names=header)\n",
    "    globals()[f'data_lam_{name_w}'],globals()[f'data_flux_{name_w}'] = Real_data['lambda'].to_numpy() , Real_data['flux'].to_numpy()\n",
    "\n",
    "   "
   ]
  },
  {
   "cell_type": "code",
   "execution_count": 113,
   "metadata": {},
   "outputs": [
    {
     "data": {
      "text/plain": [
       "['NGC6881',\n",
       " 'NGC6884',\n",
       " 'NGC6886',\n",
       " 'J900',\n",
       " 'NGC2392',\n",
       " 'NGC6741',\n",
       " 'NGC2346',\n",
       " 'NGC3242',\n",
       " 'J900',\n",
       " 'NGC2392',\n",
       " 'M1-8',\n",
       " 'Hu2-1',\n",
       " 'H4-1',\n",
       " 'Hen2-447',\n",
       " 'NGC6886',\n",
       " 'NGC3242',\n",
       " 'Hu2-1']"
      ]
     },
     "execution_count": 113,
     "metadata": {},
     "output_type": "execute_result"
    }
   ],
   "source": [
    "parameters_name"
   ]
  },
  {
   "cell_type": "markdown",
   "metadata": {},
   "source": [
    "NGC_3242"
   ]
  },
  {
   "cell_type": "code",
   "execution_count": 117,
   "metadata": {},
   "outputs": [
    {
     "data": {
      "text/plain": [
       "Text(0, 0.5, 'Flux')"
      ]
     },
     "execution_count": 117,
     "metadata": {},
     "output_type": "execute_result"
    },
    {
     "data": {
      "image/png": "[encoded data removed]",
      "text/plain": [
       "<Figure size 640x480 with 1 Axes>"
      ]
     },
     "metadata": {},
     "output_type": "display_data"
    }
   ],
   "source": [
    "name = 'NGC3242'\n",
    "\n",
    "x_min,x_max=6525.0,6575.0\n",
    "\n",
    "FC_indices = (globals()[f'data_lam_{name}'] >= 6520) & (globals()[f'data_lam_{name}'] <= 6530)\n",
    "FC_flux =globals()[f'data_flux_{name}'][FC_indices]\n",
    "\n",
    "Fc = np.mean(FC_flux)\n",
    "\n",
    "plt.plot(globals()[f'data_lam_{name}'],globals()[f'data_flux_{name}'],'k')\n",
    "x_6527 = np.arange(6510,6530,0.5)\n",
    "\n",
    "f_6527 = Flux(globals()[f'F_6527_{name}'],x,globals()[f'lam_c_6527_{name}'] ,globals()[f'sig_6527_{name}'],Fc)\n",
    "f_6560 = Flux(globals()[f'F_6560_{name}'],x,globals()[f'lam_c_6560_{name}'],globals()[f'sig_6560_{name}'],Fc)\n",
    "# f_6545 = Data_R_Flux(globals()[f'F_6545_{name}'],x,globals()[f'lam_c_6545_{name}'],globals()[f'sig_6545_{name}'],Fc)\n",
    "\n",
    "f_6563 = Flux(globals()[f'F_6563_{name}'],x,globals()[f'lam_c_6563_{name}'] ,globals()[f'sig_6563_{name}'],Fc)\n",
    "f_6548_1 = Flux(globals()[f'F_6548_1_{name}'],x,globals()[f'lam_c_6548_1_{name}'] ,globals()[f'sig_6548_1_{name}'],Fc)\n",
    "f_6548_2 = Flux(globals()[f'F_6548_2_{name}'],x,globals()[f'lam_c_6548_2_{name}'] ,globals()[f'sig_6548_2_{name}'],Fc)\n",
    "# plt.plot(x,f_6560)\n",
    "# plt.plot(x,f_6563)\n",
    "# plt.plot(x,f_6527)\n",
    "# #eff = \n",
    "# f_RCE_eff =R_Flux(F_6560_p,x,F_6545_lam ,F_6560_sigma,ratio_6560,total_f_ratio ,eff,Fc)\n",
    "\n",
    "lam_0_6527= 6527.1\n",
    "lam_0_6545 = 6544.7\n",
    "del_lam = (lam_0_6545 - lam_0_6527 )\n",
    "\n",
    "\n",
    "x_flux = np.arange(x_min,x_max,0.01)\n",
    "# f_6545_RD = Data_R_Flux(F_6545_p,x_flux,F_6545_lam,F_6545_sigma,Fc)\n",
    "eff = 1.0\n",
    "# f_R_1 =R_Flux(F_6560_p,x_flux,F_6560_lam,F_6560_sigma,ratio_6560,total_f_ratio ,eff,Fc)\n",
    "\n",
    "# tot_f_ram_1 = total_flux(f_R_1,x_flux,Fc)\n",
    "# print('Total flux of RCE 1 case is = ',tot_f_ram_1)\n",
    "\n",
    "# tot_f_obv_ram = total_flux(f_6545_RD,x_flux,Fc)\n",
    "# print('Total flux of Observed case is = ',tot_f_obv_ram)\n",
    "\n",
    "# print('RCE of ratio is ', tot_f_obv_ram / tot_f_ram_1)\n",
    "\n",
    "# eff = tot_f_obv_ram / tot_f_ram_1\n",
    "# f_Raman =R_Flux(F_6560_p,x,F_6560_lam,F_6560_sigma,ratio_6560,total_f_ratio ,eff,Fc)\n",
    "\n",
    "\n",
    "\n",
    "# plt.plot(x,f_Raman,'b',lw=3,label=r'RCE$_{}$ = {:.2f}'.format({6545},eff))\n",
    "# plt.plot(x_6527,f_6527,'y')\n",
    "# plt.plot(x,f_6545,'r',lw=3,label='Gaussian Fit')\n",
    "\n",
    "\n",
    "# plt.vlines(F_6527_lam,Fc*0.5,F_6527_p*3 + Fc*0.5,colors='k',linestyles='-.')\n",
    "# plt.vlines(F_6527_lam+ del_lam,Fc*0.5,F_6527_p*3 + Fc*0.5,colors='k',linestyles='-.')\n",
    "plt.xlim(x_min-2.5,x_max+2.5)\n",
    "plt.xlabel(r'Wavelength $[\\AA]$')\n",
    "plt.ylabel(r'Flux') #($10^{-14}$ erg s$^{-1}$ $ \\AA^{-1}$)\n",
    "# plt.xticks(np.linspace(x_min,x_max,6))\n",
    "# plt.ylim(Fc*0.5,F_6527_p*3 + Fc*0.5)"
   ]
  },
  {
   "cell_type": "code",
   "execution_count": 116,
   "metadata": {},
   "outputs": [
    {
     "data": {
      "text/plain": [
       "([<matplotlib.axis.XTick at 0x7ff5b948a890>,\n",
       "  <matplotlib.axis.XTick at 0x7ff5b94dde50>,\n",
       "  <matplotlib.axis.XTick at 0x7ff5b951e490>,\n",
       "  <matplotlib.axis.XTick at 0x7ff5b9358190>,\n",
       "  <matplotlib.axis.XTick at 0x7ff5b935b110>,\n",
       "  <matplotlib.axis.XTick at 0x7ff5b9361350>],\n",
       " [Text(6525.0, 0, '6525'),\n",
       "  Text(6535.0, 0, '6535'),\n",
       "  Text(6545.0, 0, '6545'),\n",
       "  Text(6555.0, 0, '6555'),\n",
       "  Text(6565.0, 0, '6565'),\n",
       "  Text(6575.0, 0, '6575')])"
      ]
     },
     "execution_count": 116,
     "metadata": {},
     "output_type": "execute_result"
    },
    {
     "data": {
      "image/png": "[encoded data removed]",
      "text/plain": [
       "<Figure size 640x480 with 1 Axes>"
      ]
     },
     "metadata": {},
     "output_type": "display_data"
    }
   ],
   "source": [
    "Real_data = pd.read_csv(path_NGC_2392,delim_whitespace=True,names=header)\n",
    "lam,flux = Real_data['lambda'].to_numpy() , Real_data['flux'].to_numpy()\n",
    "plt.plot(lam,flux,'k')\n",
    "\n",
    "range_indices = (lam >= 6524) & (lam <= 6530)\n",
    "filtered_flux = flux[range_indices]\n",
    "max_flux_index_in_filtered = np.argmax(filtered_flux)\n",
    "original_index = np.where(range_indices)[0][max_flux_index_in_filtered]\n",
    "F_6527_p = flux[original_index]\n",
    "\n",
    "\n",
    "range_indices = (lam >= 6524) & (lam <= 6525)\n",
    "FC_flux = flux[range_indices]\n",
    "Fc = np.mean(FC_flux)\n",
    "\n",
    "x_min,x_max=6525.0,6575.0\n",
    "plt.xlim(x_min-2.5,x_max+2.5)\n",
    "plt.xlabel(r'Wavelength $[\\AA]$')\n",
    "plt.ylabel(r'Flux') #($10^{-14}$ erg s$^{-1}$ $ \\AA^{-1}$)\n",
    "plt.xticks(np.linspace(x_min,x_max,6))\n",
    "# plt.ylim(Fc*0.5,F_6527_p*3 + Fc*0.5)"
   ]
  },
  {
   "cell_type": "code",
   "execution_count": 139,
   "metadata": {},
   "outputs": [
    {
     "data": {
      "text/plain": [
       "['Hen2-447_result.txt',\n",
       " 'NGC6886_s_result.txt',\n",
       " 'NGC2346_result.txt',\n",
       " 'NGC6886_result.txt',\n",
       " 'NGC6881_result.txt',\n",
       " 'M1-8_result.txt',\n",
       " 'NGC2392_result.txt',\n",
       " 'Hu2-1_s_result.txt',\n",
       " 'H4-1_result.txt',\n",
       " 'Hu2-1_result.txt',\n",
       " 'NGC2392_s_result.txt',\n",
       " 'NGC6884_result.txt',\n",
       " 'NGC3242_result.txt',\n",
       " 'J900_result.txt',\n",
       " 'J900_s_result.txt',\n",
       " 'NGC6741_result.txt',\n",
       " 'NGC3242_s_result.txt']"
      ]
     },
     "execution_count": 139,
     "metadata": {},
     "output_type": "execute_result"
    }
   ],
   "source": [
    "txt_files"
   ]
  },
  {
   "cell_type": "code",
   "execution_count": 140,
   "metadata": {},
   "outputs": [
    {
     "name": "stdout",
     "output_type": "stream",
     "text": [
      "['Hen2-447', 'NGC6886s', 'NGC2346', 'NGC6886', 'NGC6881', 'M1-8', 'NGC2392', 'Hu2-1s', 'H4-1', 'Hu2-1', 'NGC2392s', 'NGC6884', 'NGC3242', 'J900', 'J900s', 'NGC6741', 'NGC3242s']\n"
     ]
    }
   ],
   "source": [
    "direct = r\"/home/jin/cloudy_Test/parameters\"\n",
    "\n",
    "\n",
    "\n",
    "files = os.listdir(direct)\n",
    "\n",
    "txt_files = [file for file in files if file.endswith('result.txt')]\n",
    "\n",
    "\n",
    "parameters_names = []\n",
    "for file in txt_files:\n",
    "\n",
    "    parts = file.split('_')\n",
    "\n",
    "    if len(parts) > 1 and parts[1] == 's':\n",
    "        parameters_name = parts[0] + parts[1]\n",
    "    else:\n",
    "        parameters_name = parts[0]\n",
    "    \n",
    "    parameters_names.append(parameters_name)\n",
    "\n",
    "print(parameters_names)"
   ]
  },
  {
   "cell_type": "code",
   "execution_count": null,
   "metadata": {},
   "outputs": [],
   "source": [
    "parameter_"
   ]
  },
  {
   "cell_type": "code",
   "execution_count": 179,
   "metadata": {},
   "outputs": [],
   "source": [
    "for ii , name in enumerate(parameters_names):\n",
    "    direct_p = direct + '/' + txt_files[ii]\n",
    "    name_w = name.replace('-', '_')\n",
    "    \n",
    "    globals()[f'paramter_{name_w}']= pd.read_csv(direct_p,sep='\\,',header=0,engine='python')\n",
    "\n",
    "    globals()[f'Model_lam_{name_w}'] = globals()[f'paramter_{name_w}']['Wavelength']\n",
    "    globals()[f'Model_flux_{name_w}'] = globals()[f'paramter_{name_w}']['Flux']\n",
    "\n",
    "    globals()[f'F_c_{name_w}'] = globals()[f'paramter_{name_w}']['Continuum_Model']\n",
    "\n",
    "    globals()[f'F_6527_{name_w}'] = globals()[f'paramter_{name_w}']['HeII_6527_Model']\n",
    "    globals()[f'F_6545_{name_w}'] = globals()[f'paramter_{name_w}']['Raman_HeII_6545_Model']   \n",
    "\n",
    "    globals()[f'F_6560_{name_w}'] = globals()[f'paramter_{name_w}']['He_6560_Model']\n",
    "    globals()[f'F_6563_{name_w}'] = globals()[f'paramter_{name_w}']['Ha_6563_Model']\n",
    "    globals()[f'F_6548_1_{name_w}'] = globals()[f'paramter_{name_w}']['NII_6548_1_Model']\n",
    "    globals()[f'F_6548_2_{name_w}'] = globals()[f'paramter_{name_w}']['NII_6548_2_Model']\n",
    "\n",
    "    # header = ['lambda', 'flux']\n",
    "    # globals()[f'path_{name_w}'] = globals()[f'{name_w}_p']\n",
    "    # Real_data = pd.read_csv(globals()[f'path_{name_w}'],sep='\\s+',names=header)\n",
    "    # globals()[f'data_lam_{name_w}'],globals()[f'data_flux_{name_w}'] = Real_data['lambda'].to_numpy() , Real_data['flux'].to_numpy() \n",
    "\n",
    "   "
   ]
  },
  {
   "cell_type": "code",
   "execution_count": 180,
   "metadata": {},
   "outputs": [
    {
     "data": {
      "text/plain": [
       "[<matplotlib.lines.Line2D at 0x7ff5b95a9110>]"
      ]
     },
     "execution_count": 180,
     "metadata": {},
     "output_type": "execute_result"
    },
    {
     "data": {
      "image/png": "[encoded data removed]",
      "text/plain": [
       "<Figure size 640x480 with 1 Axes>"
      ]
     },
     "metadata": {},
     "output_type": "display_data"
    },
    {
     "ename": "",
     "evalue": "",
     "output_type": "error",
     "traceback": [
      "\u001b[1;31mThe Kernel crashed while executing code in the current cell or a previous cell. \n",
      "\u001b[1;31mPlease review the code in the cell(s) to identify a possible cause of the failure. \n",
      "\u001b[1;31mClick <a href='https://aka.ms/vscodeJupyterKernelCrash'>here</a> for more info. \n",
      "\u001b[1;31mView Jupyter <a href='command:jupyter.viewOutput'>log</a> for further details."
     ]
    }
   ],
   "source": [
    "plt.plot(data_lam_NGC3242,data_flux_NGC3242)"
   ]
  }
 ],
 "metadata": {
  "kernelspec": {
   "display_name": "base",
   "language": "python",
   "name": "python3"
  },
  "language_info": {
   "codemirror_mode": {
    "name": "ipython",
    "version": 3
   },
   "file_extension": ".py",
   "mimetype": "text/x-python",
   "name": "python",
   "nbconvert_exporter": "python",
   "pygments_lexer": "ipython3",
   "version": "3.11.5"
  }
 },
 "nbformat": 4,
 "nbformat_minor": 2
}

{
 "cells": [
  {
   "cell_type": "code",
   "execution_count": 2,
   "metadata": {},
   "outputs": [],
   "source": [
    "import numpy as np\n",
    "import matplotlib.pyplot as plt\n",
    "import pyCloudy as pc\n",
    "import pyneb as pn\n",
    "from astropy import units as u"
   ]
  },
  {
   "cell_type": "code",
   "execution_count": 3,
   "metadata": {},
   "outputs": [],
   "source": [
    "\n",
    "# #for i in range(12):\n",
    "# #       fn = 'WD_den' +str(i+2)\n",
    "# for i in range(9):\n",
    "#         fn = 'WD_den' +str(i+3)\n",
    "# #       print(fn)\n",
    "#         fn_result = fn\n",
    "#         Mod = pc.CloudyModel(fn_result)\n",
    "# #       Mod.print_lines()\n",
    "#         A = Mod.n_ions\n",
    "# #       print(A)\n",
    "#         Mod.ionic_names\n",
    "#         Lum_Lya = float(Mod.get_emis_vol('H__1_121567A'))\n",
    "#         Lum_Lyb = float(Mod.get_emis_vol('H__1_102572A'))\n",
    "#         Lum_Ha = float(Mod.get_emis_vol('H__1_656281A'))\n",
    "#         Lum_Hb = float(Mod.get_emis_vol('H__1_486133A'))\n",
    "#         Lum_O6 = float(Mod.get_emis_vol('O__6_103191A')) + float(Mod.get_emis_vol('O__6_103762A'))\n",
    "#         Lum_O6_1 = float(Mod.get_emis_vol('O__6_103191A'))\n",
    "#         Lum_O6_2 = float(Mod.get_emis_vol('O__6_103762A'))\n",
    "#         Lum_C4 = float(Mod.get_emis_vol('C__4_154819A')) + float(Mod.get_emis_vol('C__4_155078A'))\n",
    "#         Lum_N5 = float(Mod.get_emis_vol('N__5_123882A')) + float(Mod.get_emis_vol('N__5_124280A'))\n",
    "#         Lum_Mg2 = float(Mod.get_emis_vol('MG_2_279553A'))+ float(Mod.get_emis_vol('MG_2_280271A'))\n",
    "#         Lum_He2 = float(Mod.get_emis_vol('HE_2_164043A'))\n",
    "#         Lum_He2_R = float(Mod.get_emis_vol('HE_2_102527A'))\n",
    "#         N_H = sum(Mod.dr*Mod.nH)\n",
    "#         frac_C = 2.45E-04\n",
    "#         frac_O = 4.90E-04\n",
    "#         frac_N = 8.51E-05\n",
    "#         frac_Mg = 3.47E-05\n",
    "#         N_HI = sum(Mod.dr*Mod.nH*Mod.get_ionic('H',0))\n",
    "#         N_HII = sum(Mod.dr*Mod.nH*Mod.get_ionic('H',1))\n",
    "#         N_OVI = frac_O*sum(Mod.dr*Mod.nH*Mod.get_ionic('O',5))\n",
    "#         N_NV = frac_N*sum(Mod.dr*Mod.nH*Mod.get_ionic('N',4))\n",
    "#         N_CIV = frac_C*sum(Mod.dr*Mod.nH*Mod.get_ionic('C',3))\n",
    "#         print( (i+5), N_HI, N_HII, N_OVI, Lum_O6, Lum_He2, Lum_Ha, Lum_O6_1/Lum_O6_2, Lum_C4, Lum_N5, Lum_Mg2 )\n",
    "# #       print('N_H', N_H)\n",
    "# #       print('Lya',Lum_Lya, N_HI)\n",
    "# #       print('O VI',Lum_O6, N_OVI)\n",
    "# #       print('C IV',Lum_C4, N_CIV)\n",
    "# #       print('N V',Lum_N5, N_NV)"
   ]
  },
  {
   "cell_type": "code",
   "execution_count": 4,
   "metadata": {},
   "outputs": [
    {
     "name": "stdout",
     "output_type": "stream",
     "text": [
      "warng CloudyModel WD_den10: WD_den10.out NOT read.\n"
     ]
    },
    {
     "ename": "AttributeError",
     "evalue": "'CloudyModel' object has no attribute 'emis_labels'",
     "output_type": "error",
     "traceback": [
      "\u001b[0;31m---------------------------------------------------------------------------\u001b[0m",
      "\u001b[0;31mAttributeError\u001b[0m                            Traceback (most recent call last)",
      "Cell \u001b[0;32mIn[4], line 5\u001b[0m\n\u001b[1;32m      3\u001b[0m fn_result \u001b[38;5;241m=\u001b[39m fn\n\u001b[1;32m      4\u001b[0m Mod \u001b[38;5;241m=\u001b[39m pc\u001b[38;5;241m.\u001b[39mCloudyModel(fn_result)\n\u001b[0;32m----> 5\u001b[0m Mod\u001b[38;5;241m.\u001b[39mprint_lines()\n\u001b[1;32m      6\u001b[0m A \u001b[38;5;241m=\u001b[39m Mod\u001b[38;5;241m.\u001b[39mn_ions\n\u001b[1;32m      7\u001b[0m \u001b[38;5;66;03m# pMod = pc.CloudyModelrint(A)\u001b[39;00m\n",
      "File \u001b[0;32m~/anaconda3/lib/python3.11/site-packages/pyCloudy/c1d/cloudy_model.py:1994\u001b[0m, in \u001b[0;36mCloudyModel.print_lines\u001b[0;34m(self, ref, norm, at_earth, use_emis)\u001b[0m\n\u001b[1;32m   1992\u001b[0m \u001b[38;5;28;01melse\u001b[39;00m:\n\u001b[1;32m   1993\u001b[0m     \u001b[38;5;28;01mif\u001b[39;00m use_emis:\n\u001b[0;32m-> 1994\u001b[0m         \u001b[38;5;28;01mfor\u001b[39;00m em \u001b[38;5;129;01min\u001b[39;00m \u001b[38;5;28mself\u001b[39m\u001b[38;5;241m.\u001b[39memis_labels:\n\u001b[1;32m   1995\u001b[0m             \u001b[38;5;28mself\u001b[39m\u001b[38;5;241m.\u001b[39mprint_lines(em, norm\u001b[38;5;241m=\u001b[39mnorm, at_earth \u001b[38;5;241m=\u001b[39m at_earth, use_emis \u001b[38;5;241m=\u001b[39m use_emis)\n\u001b[1;32m   1996\u001b[0m     \u001b[38;5;28;01melse\u001b[39;00m:\n",
      "\u001b[0;31mAttributeError\u001b[0m: 'CloudyModel' object has no attribute 'emis_labels'"
     ]
    }
   ],
   "source": [
    "fn = 'WD_den' +str(10)\n",
    "#       print(fn)\n",
    "fn_result = fn\n",
    "Mod = pc.CloudyModel(fn_result)\n",
    "Mod.print_lines()\n",
    "A = Mod.n_ions\n",
    "# pMod = pc.CloudyModelrint(A)\n",
    "Mod.ionic_names\n",
    "Lum_Lya = float(Mod.get_emis_vol('H__1_121567A'))\n",
    "Lum_Lyb = float(Mod.get_emis_vol('H__1_102572A'))\n",
    "Lum_Ha = float(Mod.get_emis_vol('H__1_656281A'))\n",
    "Lum_Hb = float(Mod.get_emis_vol('H__1_486133A'))\n",
    "Lum_O6 = float(Mod.get_emis_vol('O__6_103191A')) + float(Mod.get_emis_vol('O__6_103762A'))\n",
    "Lum_O6_1 = float(Mod.get_emis_vol('O__6_103191A'))\n",
    "Lum_O6_2 = float(Mod.get_emis_vol('O__6_103762A'))\n",
    "Lum_C4 = float(Mod.get_emis_vol('C__4_154819A')) + float(Mod.get_emis_vol('C__4_155078A'))\n",
    "Lum_N5 = float(Mod.get_emis_vol('N__5_123882A')) + float(Mod.get_emis_vol('N__5_124280A'))\n",
    "Lum_Mg2 = float(Mod.get_emis_vol('MG_2_279553A'))+ float(Mod.get_emis_vol('MG_2_280271A'))\n",
    "Lum_He2 = float(Mod.get_emis_vol('HE_2_164043A'))\n",
    "Lum_He2_R = float(Mod.get_emis_vol('HE_2_102527A'))\n",
    "N_H = sum(Mod.dr*Mod.nH)\n",
    "frac_C = 2.45E-04\n",
    "frac_O = 4.90E-04\n",
    "frac_N = 8.51E-05\n",
    "frac_Mg = 3.47E-05\n",
    "N_HI = sum(Mod.dr*Mod.nH*Mod.get_ionic('H',0))\n",
    "N_HII = sum(Mod.dr*Mod.nH*Mod.get_ionic('H',1))\n",
    "N_OVI = frac_O*sum(Mod.dr*Mod.nH*Mod.get_ionic('O',5))\n",
    "N_NV = frac_N*sum(Mod.dr*Mod.nH*Mod.get_ionic('N',4))\n",
    "N_CIV = frac_C*sum(Mod.dr*Mod.nH*Mod.get_ionic('C',3))\n",
    "print( (3), N_HI, N_HII, N_OVI, Lum_O6, Lum_He2, Lum_Ha, Lum_O6_1/Lum_O6_2, Lum_C4, Lum_N5, Lum_Mg2 )"
   ]
  },
  {
   "cell_type": "markdown",
   "metadata": {},
   "source": []
  },
  {
   "cell_type": "code",
   "execution_count": null,
   "metadata": {},
   "outputs": [
    {
     "data": {
      "text/plain": [
       "array(['H__1_121567A', 'H__1_102572A', 'H__1_486133A', 'H__1_656281A',\n",
       "       'O__6_103191A', 'O__6_103762A', 'HE_2_972108A', 'HE_2_102527A',\n",
       "       'HE_2_164043A', 'C__4_155078A', 'O__3_500684A', 'N__5_123882A',\n",
       "       'N__5_124280A', 'C__4_154819A', 'C__4_155078A_1', 'MG_2_279553A',\n",
       "       'MG_2_280271A'], dtype='<U14')"
      ]
     },
     "execution_count": 7,
     "metadata": {},
     "output_type": "execute_result"
    }
   ],
   "source": [
    "Mod.emis_labels"
   ]
  },
  {
   "cell_type": "code",
   "execution_count": null,
   "metadata": {},
   "outputs": [
    {
     "data": {
      "text/plain": [
       "[<matplotlib.lines.Line2D at 0x7f4b2b14f450>]"
      ]
     },
     "execution_count": 8,
     "metadata": {},
     "output_type": "execute_result"
    },
    {
     "data": {
      "image/png": "[encoded data removed]",
      "text/plain": [
       "<Figure size 640x480 with 1 Axes>"
      ]
     },
     "metadata": {},
     "output_type": "display_data"
    }
   ],
   "source": [
    "plt.plot(Mod.radius,Mod.te,label='te')"
   ]
  },
  {
   "cell_type": "code",
   "execution_count": 5,
   "metadata": {},
   "outputs": [
    {
     "name": "stdout",
     "output_type": "stream",
     "text": [
      "warng CloudyModel test_B: test_B.out NOT read.\n"
     ]
    },
    {
     "ename": "AttributeError",
     "evalue": "'CloudyModel' object has no attribute 'emis_labels'",
     "output_type": "error",
     "traceback": [
      "\u001b[0;31m---------------------------------------------------------------------------\u001b[0m",
      "\u001b[0;31mAttributeError\u001b[0m                            Traceback (most recent call last)",
      "Cell \u001b[0;32mIn[5], line 5\u001b[0m\n\u001b[1;32m      3\u001b[0m fn_result \u001b[38;5;241m=\u001b[39m fn\n\u001b[1;32m      4\u001b[0m Mod \u001b[38;5;241m=\u001b[39m pc\u001b[38;5;241m.\u001b[39mCloudyModel(fn_result)\n\u001b[0;32m----> 5\u001b[0m Mod\u001b[38;5;241m.\u001b[39mprint_lines()\n\u001b[1;32m      6\u001b[0m A \u001b[38;5;241m=\u001b[39m Mod\u001b[38;5;241m.\u001b[39mn_ions\n\u001b[1;32m      7\u001b[0m \u001b[38;5;66;03m# pMod = pc.CloudyModelrint(A)\u001b[39;00m\n",
      "File \u001b[0;32m~/anaconda3/lib/python3.11/site-packages/pyCloudy/c1d/cloudy_model.py:1994\u001b[0m, in \u001b[0;36mCloudyModel.print_lines\u001b[0;34m(self, ref, norm, at_earth, use_emis)\u001b[0m\n\u001b[1;32m   1992\u001b[0m \u001b[38;5;28;01melse\u001b[39;00m:\n\u001b[1;32m   1993\u001b[0m     \u001b[38;5;28;01mif\u001b[39;00m use_emis:\n\u001b[0;32m-> 1994\u001b[0m         \u001b[38;5;28;01mfor\u001b[39;00m em \u001b[38;5;129;01min\u001b[39;00m \u001b[38;5;28mself\u001b[39m\u001b[38;5;241m.\u001b[39memis_labels:\n\u001b[1;32m   1995\u001b[0m             \u001b[38;5;28mself\u001b[39m\u001b[38;5;241m.\u001b[39mprint_lines(em, norm\u001b[38;5;241m=\u001b[39mnorm, at_earth \u001b[38;5;241m=\u001b[39m at_earth, use_emis \u001b[38;5;241m=\u001b[39m use_emis)\n\u001b[1;32m   1996\u001b[0m     \u001b[38;5;28;01melse\u001b[39;00m:\n",
      "\u001b[0;31mAttributeError\u001b[0m: 'CloudyModel' object has no attribute 'emis_labels'"
     ]
    }
   ],
   "source": [
    "fn = 'test_B' \n",
    "#       print(fn)\n",
    "fn_result = fn\n",
    "Mod = pc.CloudyModel(fn_result)\n",
    "Mod.print_lines()\n",
    "A = Mod.n_ions\n",
    "# pMod = pc.CloudyModelrint(A)\n",
    "Mod.ionic_names\n",
    "Lum_Lya = float(Mod.get_emis_vol('H__1_121567A'))\n",
    "Lum_Lyb = float(Mod.get_emis_vol('H__1_102572A'))\n",
    "Lum_Ha = float(Mod.get_emis_vol('H__1_656281A'))\n",
    "Lum_Hb = float(Mod.get_emis_vol('H__1_486133A'))\n",
    "Lum_O6 = float(Mod.get_emis_vol('O__6_103191A')) + float(Mod.get_emis_vol('O__6_103762A'))\n",
    "Lum_O6_1 = float(Mod.get_emis_vol('O__6_103191A'))\n",
    "Lum_O6_2 = float(Mod.get_emis_vol('O__6_103762A'))\n",
    "Lum_C4 = float(Mod.get_emis_vol('C__4_154819A')) + float(Mod.get_emis_vol('C__4_155078A'))\n",
    "Lum_N5 = float(Mod.get_emis_vol('N__5_123882A')) + float(Mod.get_emis_vol('N__5_124280A'))\n",
    "Lum_Mg2 = float(Mod.get_emis_vol('MG_2_279553A'))+ float(Mod.get_emis_vol('MG_2_280271A'))\n",
    "Lum_He2 = float(Mod.get_emis_vol('HE_2_164043A'))\n",
    "Lum_He2_R = float(Mod.get_emis_vol('HE_2_102527A'))\n",
    "N_H = sum(Mod.dr*Mod.nH)\n",
    "frac_C = 2.45E-04\n",
    "frac_O = 4.90E-04\n",
    "frac_N = 8.51E-05\n",
    "frac_Mg = 3.47E-05\n",
    "N_HI = sum(Mod.dr*Mod.nH*Mod.get_ionic('H',0))\n",
    "N_HII = sum(Mod.dr*Mod.nH*Mod.get_ionic('H',1))\n",
    "N_OVI = frac_O*sum(Mod.dr*Mod.nH*Mod.get_ionic('O',5))\n",
    "N_NV = frac_N*sum(Mod.dr*Mod.nH*Mod.get_ionic('N',4))\n",
    "N_CIV = frac_C*sum(Mod.dr*Mod.nH*Mod.get_ionic('C',3))\n",
    "print( (3), N_HI, N_HII, N_OVI, Lum_O6, Lum_He2, Lum_Ha, Lum_O6_1/Lum_O6_2, Lum_C4, Lum_N5, Lum_Mg2 )"
   ]
  },
  {
   "cell_type": "code",
   "execution_count": null,
   "metadata": {},
   "outputs": [
    {
     "data": {
      "text/plain": [
       "[<matplotlib.lines.Line2D at 0x7f4b2a718190>]"
      ]
     },
     "execution_count": 9,
     "metadata": {},
     "output_type": "execute_result"
    },
    {
     "data": {
      "image/png": "[encoded data removed]",
      "text/plain": [
       "<Figure size 640x480 with 1 Axes>"
      ]
     },
     "metadata": {},
     "output_type": "display_data"
    }
   ],
   "source": [
    "# plt.plot(Mod.radius,Mod.get_emis('H__1_121567A'))\n",
    "# plt.plot(Mod.radius,Mod.get_emis('HE_2_972108A'))"
   ]
  },
  {
   "cell_type": "code",
   "execution_count": null,
   "metadata": {},
   "outputs": [
    {
     "data": {
      "text/plain": [
       "['C3D_comments',\n",
       " 'H0_mass',\n",
       " 'H_mass',\n",
       " 'H_mass_cut',\n",
       " 'H_mass_full',\n",
       " 'Hbeta',\n",
       " 'Hbeta_cut',\n",
       " 'Hbeta_full',\n",
       " 'Hbeta_label',\n",
       " 'Hp_mass',\n",
       " 'Phi',\n",
       " 'Phi0',\n",
       " 'Q',\n",
       " 'Q0',\n",
       " 'T0',\n",
       " 'Teff',\n",
       " '_CloudyModel__H_mass_cut',\n",
       " '_CloudyModel__Hbeta_cut',\n",
       " '_CloudyModel__depth_in_cut',\n",
       " '_CloudyModel__depth_out_cut',\n",
       " '_CloudyModel__r_in_cut',\n",
       " '_CloudyModel__r_out_cut',\n",
       " '_CloudyModel__r_range',\n",
       " '__class__',\n",
       " '__delattr__',\n",
       " '__dict__',\n",
       " '__dir__',\n",
       " '__doc__',\n",
       " '__eq__',\n",
       " '__format__',\n",
       " '__ge__',\n",
       " '__getattribute__',\n",
       " '__getstate__',\n",
       " '__gt__',\n",
       " '__hash__',\n",
       " '__init__',\n",
       " '__init_subclass__',\n",
       " '__le__',\n",
       " '__lt__',\n",
       " '__module__',\n",
       " '__ne__',\n",
       " '__new__',\n",
       " '__reduce__',\n",
       " '__reduce_ex__',\n",
       " '__repr__',\n",
       " '__setattr__',\n",
       " '__sizeof__',\n",
       " '__str__',\n",
       " '__subclasshook__',\n",
       " '__weakref__',\n",
       " '_depth_out_cut_doc',\n",
       " '_get_H_mass_cut',\n",
       " '_get_Hbeta_cut',\n",
       " '_get_depth_in_cut',\n",
       " '_get_depth_out_cut',\n",
       " '_get_over_range',\n",
       " '_get_r_in_cut',\n",
       " '_get_r_out_cut',\n",
       " '_i_emis',\n",
       " '_i_line',\n",
       " '_init_abunds',\n",
       " '_init_all2zero',\n",
       " '_init_cont',\n",
       " '_init_emis',\n",
       " '_init_grains',\n",
       " '_init_heatcool',\n",
       " '_init_ionic',\n",
       " '_init_lin',\n",
       " '_init_opd',\n",
       " '_init_ovr',\n",
       " '_init_phy',\n",
       " '_init_pressure',\n",
       " '_init_rad',\n",
       " '_l_emis',\n",
       " '_quiet_div',\n",
       " '_r_out_cut_doc',\n",
       " '_read_stout',\n",
       " '_res',\n",
       " '_set_H_mass_cut',\n",
       " '_set_Hbeta_cut',\n",
       " '_set_depth_in_cut',\n",
       " '_set_depth_out_cut',\n",
       " '_set_r_in_cut',\n",
       " '_set_r_out_cut',\n",
       " 'aborted',\n",
       " 'abund',\n",
       " 'abunds',\n",
       " 'abunds_full',\n",
       " 'add_emis_from_pyneb',\n",
       " 'calling',\n",
       " 'cautions',\n",
       " 'cloudy_version',\n",
       " 'cloudy_version_major',\n",
       " 'comments',\n",
       " 'cool',\n",
       " 'cool_full',\n",
       " 'date_model',\n",
       " 'depth',\n",
       " 'depth_full',\n",
       " 'depth_in',\n",
       " 'depth_in_cut',\n",
       " 'depth_out',\n",
       " 'depth_out_cut',\n",
       " 'distance',\n",
       " 'dr',\n",
       " 'dr_full',\n",
       " 'drff',\n",
       " 'dv',\n",
       " 'dv_full',\n",
       " 'dvff',\n",
       " 'emis_from_pyneb',\n",
       " 'emis_full',\n",
       " 'emis_is_log',\n",
       " 'emis_labels',\n",
       " 'emis_labels_13',\n",
       " 'emis_labels_17',\n",
       " 'empty_model',\n",
       " 'ff',\n",
       " 'ff_full',\n",
       " 'gabund',\n",
       " 'gabund_full',\n",
       " 'gabund_labels',\n",
       " 'gas_mass_per_H',\n",
       " 'gasize',\n",
       " 'gdgrat',\n",
       " 'gdgrat_full',\n",
       " 'gdgrat_labels',\n",
       " 'gdsize',\n",
       " 'get_EW',\n",
       " 'get_EW2',\n",
       " 'get_G0',\n",
       " 'get_Ha_EW',\n",
       " 'get_Hb_EW',\n",
       " 'get_Hb_SB',\n",
       " 'get_T0_emis',\n",
       " 'get_T0_emis_rad',\n",
       " 'get_T0_ion_rad',\n",
       " 'get_T0_ion_rad_ne',\n",
       " 'get_T0_ion_vol',\n",
       " 'get_T0_ion_vol_ne',\n",
       " 'get_ab_ion_rad',\n",
       " 'get_ab_ion_rad_ne',\n",
       " 'get_ab_ion_vol',\n",
       " 'get_ab_ion_vol_ne',\n",
       " 'get_cont_x',\n",
       " 'get_cont_y',\n",
       " 'get_emis',\n",
       " 'get_emis_rad',\n",
       " 'get_emis_vol',\n",
       " 'get_integ_spec',\n",
       " 'get_interp_cont',\n",
       " 'get_ionic',\n",
       " 'get_line',\n",
       " 'get_ne_emis',\n",
       " 'get_ne_ion_rad_ne',\n",
       " 'get_ne_ion_vol_ne',\n",
       " 'get_t2_emis',\n",
       " 'get_t2_ion_rad_ne',\n",
       " 'get_t2_ion_vol_ne',\n",
       " 'gmass',\n",
       " 'gsize',\n",
       " 'gtemp',\n",
       " 'gtemp_full',\n",
       " 'gtemp_labels',\n",
       " 'heat',\n",
       " 'heat_full',\n",
       " 'info',\n",
       " 'intens',\n",
       " 'ionic_full',\n",
       " 'ionic_names',\n",
       " 'is_valid_ion',\n",
       " 'line_is_log',\n",
       " 'lines',\n",
       " 'liste_elem',\n",
       " 'log_',\n",
       " 'log_U',\n",
       " 'log_U_mean',\n",
       " 'log_U_mean_ne',\n",
       " 'model_name',\n",
       " 'model_name_s',\n",
       " 'nH',\n",
       " 'nH_full',\n",
       " 'nH_mean',\n",
       " 'nHff_full',\n",
       " 'n_elements',\n",
       " 'n_emis',\n",
       " 'n_gabund',\n",
       " 'n_gdgrat',\n",
       " 'n_gtemp',\n",
       " 'n_ions',\n",
       " 'n_lines',\n",
       " 'n_zones',\n",
       " 'n_zones_full',\n",
       " 'ne',\n",
       " 'ne_full',\n",
       " 'nenH',\n",
       " 'nenH_full',\n",
       " 'nenHff2_full',\n",
       " 'opd_absorp',\n",
       " 'opd_energy',\n",
       " 'opd_scat',\n",
       " 'opd_total',\n",
       " 'out',\n",
       " 'out_exists',\n",
       " 'phi',\n",
       " 'plan_par',\n",
       " 'plot_spectrum',\n",
       " 'pressure_full',\n",
       " 'print_lines',\n",
       " 'print_stats',\n",
       " 'r_in',\n",
       " 'r_in_cut',\n",
       " 'r_out',\n",
       " 'r_out_cut',\n",
       " 'r_range',\n",
       " 'rad_integ',\n",
       " 'rad_mean',\n",
       " 'radius',\n",
       " 'radius_full',\n",
       " 'read_outputs',\n",
       " 'rlines',\n",
       " 'slines',\n",
       " 't2',\n",
       " 'te',\n",
       " 'te_full',\n",
       " 'tenenH',\n",
       " 'tenenH_full',\n",
       " 'theta',\n",
       " 'thickness',\n",
       " 'thickness_full',\n",
       " 'vol_integ',\n",
       " 'vol_mean',\n",
       " 'warnings',\n",
       " 'zones',\n",
       " 'zones_full']"
      ]
     },
     "execution_count": 14,
     "metadata": {},
     "output_type": "execute_result"
    }
   ],
   "source": [
    "dir(Mod)"
   ]
  },
  {
   "cell_type": "code",
   "execution_count": null,
   "metadata": {},
   "outputs": [
    {
     "ename": "NameError",
     "evalue": "name 'plt' is not defined",
     "output_type": "error",
     "traceback": [
      "\u001b[0;31m---------------------------------------------------------------------------\u001b[0m",
      "\u001b[0;31mNameError\u001b[0m                                 Traceback (most recent call last)",
      "Cell \u001b[0;32mIn[1], line 1\u001b[0m\n\u001b[0;32m----> 1\u001b[0m plt\u001b[38;5;241m.\u001b[39mplot(Mod\u001b[38;5;241m.\u001b[39mradius,Mod\u001b[38;5;241m.\u001b[39mte)\n\u001b[1;32m      2\u001b[0m plt\u001b[38;5;241m.\u001b[39mxscale(\u001b[38;5;124m'\u001b[39m\u001b[38;5;124mlog\u001b[39m\u001b[38;5;124m'\u001b[39m)\n",
      "\u001b[0;31mNameError\u001b[0m: name 'plt' is not defined"
     ]
    }
   ],
   "source": [
    "plt.plot(Mod.radius,Mod.te)\n",
    "plt.xscale('log')"
   ]
  },
  {
   "cell_type": "code",
   "execution_count": null,
   "metadata": {},
   "outputs": [],
   "source": [
    "# import pandas as pd\n",
    "\n",
    "# data = pd.read_csv('pn.con',delim_whitespace=True)\n",
    "# data.columns\n",
    "\n",
    "# wav , lum  = data['#Cont'] , data['total']\n",
    "# # radius , tem = data['#depth'] , data['Te']"
   ]
  },
  {
   "cell_type": "code",
   "execution_count": null,
   "metadata": {},
   "outputs": [
    {
     "data": {
      "text/plain": [
       "[<matplotlib.lines.Line2D at 0x7f1f1ac3e590>]"
      ]
     },
     "execution_count": 51,
     "metadata": {},
     "output_type": "execute_result"
    },
    {
     "data": {
      "image/png": "[encoded data removed]",
      "text/plain": [
       "<Figure size 640x480 with 1 Axes>"
      ]
     },
     "metadata": {},
     "output_type": "display_data"
    }
   ],
   "source": [
    "plt.loglog(wav,lum)"
   ]
  },
  {
   "cell_type": "code",
   "execution_count": null,
   "metadata": {},
   "outputs": [
    {
     "data": {
      "text/plain": [
       "(10000000000000, 500000000000000)"
      ]
     },
     "execution_count": 45,
     "metadata": {},
     "output_type": "execute_result"
    },
    {
     "data": {
      "image/png": "[encoded data removed]",
      "text/plain": [
       "<Figure size 640x480 with 1 Axes>"
      ]
     },
     "metadata": {},
     "output_type": "display_data"
    }
   ],
   "source": [
    "plt.plot(radius,np.log10(tem))\n",
    "plt.xscale('log')\n",
    "plt.xlim(10**13,5*10**14)"
   ]
  }
 ],
 "metadata": {
  "kernelspec": {
   "display_name": "Python 3",
   "language": "python",
   "name": "python3"
  },
  "language_info": {
   "codemirror_mode": {
    "name": "ipython",
    "version": 3
   },
   "file_extension": ".py",
   "mimetype": "text/x-python",
   "name": "python",
   "nbconvert_exporter": "python",
   "pygments_lexer": "ipython3",
   "version": "3.11.5"
  }
 },
 "nbformat": 4,
 "nbformat_minor": 2
}
